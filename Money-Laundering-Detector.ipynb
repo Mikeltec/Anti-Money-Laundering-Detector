{
 "cells": [
  {
   "cell_type": "markdown",
   "id": "6c44470d-1f1a-4df1-b6b1-08fd542a1a5a",
   "metadata": {},
   "source": [
    "# **Money Laundering Detector**"
   ]
  },
  {
   "cell_type": "markdown",
   "id": "0f8fcb40-a1fa-44bb-9060-822414d54297",
   "metadata": {},
   "source": [
    "## **Loading the libraries**"
   ]
  },
  {
   "cell_type": "code",
   "execution_count": 11,
   "id": "1bfebfc5-b610-4692-bbb5-87c1d61b5814",
   "metadata": {},
   "outputs": [],
   "source": [
    "import pandas as pd\n",
    "import numpy as np\n",
    "import matplotlib.pyplot as plt\n",
    "import seaborn as sns\n",
    "%matplotlib inline\n",
    "\n",
    "import warnings\n",
    "warnings.filterwarnings(\"ignore\")\n",
    "\n",
    "from sklearn.pipeline import Pipeline\n",
    "from sklearn.impute import SimpleImputer\n",
    "from sklearn.preprocessing import RobustScaler, OrdinalEncoder\n",
    "from sklearn.compose import ColumnTransformer\n",
    "from sklearn.model_selection import GridSearchCV\n",
    "\n",
    "from sklearn.model_selection import train_test_split\n",
    "\n",
    "from sklearn.metrics import accuracy_score, f1_score, precision_score, recall_score, confusion_matrix, roc_auc_score, roc_curve\n",
    "from xgboost import XGBClassifier\n",
    "from sklearn.ensemble import RandomForestClassifier\n",
    "from sklearn.ensemble import ExtraTreesClassifier\n",
    "\n",
    "from sklearn.metrics import classification_report, confusion_matrix\n",
    "from imblearn.over_sampling import SMOTE\n",
    "from collections import Counter\n",
    "import kaggle\n",
    "from kaggle.api.kaggle_api_extended import KaggleApi\n",
    "import os\n",
    "import zipfile"
   ]
  },
  {
   "cell_type": "markdown",
   "id": "e9b210d7-6aef-4e57-bdec-9226dc64a8cf",
   "metadata": {},
   "source": [
    "## **Loading the dataset**"
   ]
  },
  {
   "cell_type": "markdown",
   "id": "5351e1e0-e05d-4a98-bd75-ef5cbe635f74",
   "metadata": {},
   "source": [
    "According to the dataset owner, the data is divided in 6 datasets into two groups of three:\n",
    "\n",
    "* Group HI has a relatively higher illicit ratio (more laundering).\n",
    "* Group LI has a relatively lower illicit ratio (less laundering).\n",
    "\n",
    "Both HI and LI internally have three sets of data: small, medium, and large. Also, provides two files for each of the six datasets:\n",
    "\n",
    "* A list of transactions in CSV format\n",
    "* A text file list of laundering transactions.\n",
    "\n",
    "So, we have a larga dataset, but for our project, we will use the following file:\n",
    "\n",
    "* HI-Small_Trans.csv"
   ]
  },
  {
   "cell_type": "code",
   "execution_count": 12,
   "id": "baec12a7-28a4-4d29-9256-78a93b20b72e",
   "metadata": {},
   "outputs": [
    {
     "name": "stdout",
     "output_type": "stream",
     "text": [
      "Dataset URL: https://www.kaggle.com/datasets/ealtman2019/ibm-transactions-for-anti-money-laundering-aml\n"
     ]
    }
   ],
   "source": [
    "# Downloading the dataset using Kaggle API\n",
    "# Generate the kaggle.json from Settings > API > Create new token in Kaggle user profile.\n",
    "# Paste it in /user/.kaggle/ folder\n",
    "api = KaggleApi()\n",
    "api.authenticate()\n",
    "\n",
    "file_name = \"HI-Small_Trans.csv\"\n",
    "api.dataset_download_file(\"ealtman2019/ibm-transactions-for-anti-money-laundering-aml\", file_name=file_name, path=\"./dataset/\")\n",
    "zip_path = f\"./dataset/{file_name}.zip\"\n",
    "if os.path.exists(zip_path):raw_df = pd.read_csv(data_path)\n",
    "\n",
    "raw_df.shape\n",
    "    with zipfile.ZipFile(zip_path, \"r\") as zip_ref:\n",
    "        zip_ref.extractall(\"./dataset/\")\n",
    "    os.remove(zip_path)"
   ]
  },
  {
   "cell_type": "code",
   "execution_count": 13,
   "id": "2dfc43bd-b78f-4501-96ad-e5a33cc65d11",
   "metadata": {},
   "outputs": [
    {
     "data": {
      "text/plain": [
       "(5078345, 11)"
      ]
     },
     "execution_count": 13,
     "metadata": {},
     "output_type": "execute_result"
    }
   ],
   "source": [
    "# Loading the dataset into a Pandas Dataframe\n",
    "raw_df = pd.read_csv('./dataset/' + file_name)\n",
    "\n",
    "raw_df.shape"
   ]
  },
  {
   "cell_type": "markdown",
   "id": "1c5bba4d-fe6c-4006-a5ff-c8810a739e91",
   "metadata": {},
   "source": [
    "## **Exploring the Dataset**"
   ]
  },
  {
   "cell_type": "markdown",
   "id": "f7994b9e-a4bf-493d-bf5f-d1dc63bfcf90",
   "metadata": {},
   "source": [
    "#### Extracting a sample from the dataset: 50,000 records"
   ]
  },
  {
   "cell_type": "code",
   "execution_count": 14,
   "id": "6f7a9dd5-219a-4991-b0e8-86d93981a3d2",
   "metadata": {},
   "outputs": [
    {
     "data": {
      "text/plain": [
       "(50000, 11)"
      ]
     },
     "execution_count": 14,
     "metadata": {},
     "output_type": "execute_result"
    }
   ],
   "source": [
    "df = raw_df.sample(n=50000, random_state=1)\n",
    "\n",
    "df.shape"
   ]
  },
  {
   "cell_type": "code",
   "execution_count": 15,
   "id": "21511d2e-a02a-475b-940f-967231ce6533",
   "metadata": {},
   "outputs": [
    {
     "data": {
      "text/plain": [
       "Index(['Timestamp', 'From Bank', 'Account', 'To Bank', 'Account.1',\n",
       "       'Amount Received', 'Receiving Currency', 'Amount Paid',\n",
       "       'Payment Currency', 'Payment Format', 'Is Laundering'],\n",
       "      dtype='object')"
      ]
     },
     "execution_count": 15,
     "metadata": {},
     "output_type": "execute_result"
    }
   ],
   "source": [
    "df.columns"
   ]
  },
  {
   "cell_type": "code",
   "execution_count": 16,
   "id": "117bc707-4b80-4f99-a8da-dd305bb226cd",
   "metadata": {},
   "outputs": [
    {
     "data": {
      "text/html": [
       "<div>\n",
       "<style scoped>\n",
       "    .dataframe tbody tr th:only-of-type {\n",
       "        vertical-align: middle;\n",
       "    }\n",
       "\n",
       "    .dataframe tbody tr th {\n",
       "        vertical-align: top;\n",
       "    }\n",
       "\n",
       "    .dataframe thead th {\n",
       "        text-align: right;\n",
       "    }\n",
       "</style>\n",
       "<table border=\"1\" class=\"dataframe\">\n",
       "  <thead>\n",
       "    <tr style=\"text-align: right;\">\n",
       "      <th></th>\n",
       "      <th>Timestamp</th>\n",
       "      <th>From Bank</th>\n",
       "      <th>Account</th>\n",
       "      <th>To Bank</th>\n",
       "      <th>Account.1</th>\n",
       "      <th>Amount Received</th>\n",
       "      <th>Receiving Currency</th>\n",
       "      <th>Amount Paid</th>\n",
       "      <th>Payment Currency</th>\n",
       "      <th>Payment Format</th>\n",
       "      <th>Is Laundering</th>\n",
       "    </tr>\n",
       "  </thead>\n",
       "  <tbody>\n",
       "    <tr>\n",
       "      <th>4205263</th>\n",
       "      <td>2022/09/08 23:03</td>\n",
       "      <td>70</td>\n",
       "      <td>100428A08</td>\n",
       "      <td>148586</td>\n",
       "      <td>8120D5550</td>\n",
       "      <td>13204.53</td>\n",
       "      <td>Saudi Riyal</td>\n",
       "      <td>13204.53</td>\n",
       "      <td>Saudi Riyal</td>\n",
       "      <td>Cash</td>\n",
       "      <td>0</td>\n",
       "    </tr>\n",
       "    <tr>\n",
       "      <th>3270156</th>\n",
       "      <td>2022/09/07 00:15</td>\n",
       "      <td>1132</td>\n",
       "      <td>80C50E4A0</td>\n",
       "      <td>28</td>\n",
       "      <td>80B7644F0</td>\n",
       "      <td>329.94</td>\n",
       "      <td>Mexican Peso</td>\n",
       "      <td>329.94</td>\n",
       "      <td>Mexican Peso</td>\n",
       "      <td>Credit Card</td>\n",
       "      <td>0</td>\n",
       "    </tr>\n",
       "    <tr>\n",
       "      <th>2669041</th>\n",
       "      <td>2022/09/05 18:41</td>\n",
       "      <td>70</td>\n",
       "      <td>1004288E8</td>\n",
       "      <td>32814</td>\n",
       "      <td>80C1FC0D0</td>\n",
       "      <td>54497.52</td>\n",
       "      <td>Mexican Peso</td>\n",
       "      <td>54497.52</td>\n",
       "      <td>Mexican Peso</td>\n",
       "      <td>Credit Card</td>\n",
       "      <td>0</td>\n",
       "    </tr>\n",
       "    <tr>\n",
       "      <th>262487</th>\n",
       "      <td>2022/09/01 00:03</td>\n",
       "      <td>210</td>\n",
       "      <td>8000A4B20</td>\n",
       "      <td>226548</td>\n",
       "      <td>809D2E6E0</td>\n",
       "      <td>6370.84</td>\n",
       "      <td>Canadian Dollar</td>\n",
       "      <td>6370.84</td>\n",
       "      <td>Canadian Dollar</td>\n",
       "      <td>ACH</td>\n",
       "      <td>0</td>\n",
       "    </tr>\n",
       "    <tr>\n",
       "      <th>2618957</th>\n",
       "      <td>2022/09/05 16:19</td>\n",
       "      <td>21</td>\n",
       "      <td>803F9CB00</td>\n",
       "      <td>9679</td>\n",
       "      <td>804679BD0</td>\n",
       "      <td>21376.33</td>\n",
       "      <td>Yen</td>\n",
       "      <td>21376.33</td>\n",
       "      <td>Yen</td>\n",
       "      <td>Cheque</td>\n",
       "      <td>0</td>\n",
       "    </tr>\n",
       "    <tr>\n",
       "      <th>2626571</th>\n",
       "      <td>2022/09/05 16:32</td>\n",
       "      <td>4600</td>\n",
       "      <td>801F377A0</td>\n",
       "      <td>24811</td>\n",
       "      <td>803277950</td>\n",
       "      <td>7275.11</td>\n",
       "      <td>Euro</td>\n",
       "      <td>7275.11</td>\n",
       "      <td>Euro</td>\n",
       "      <td>Cheque</td>\n",
       "      <td>0</td>\n",
       "    </tr>\n",
       "    <tr>\n",
       "      <th>4171449</th>\n",
       "      <td>2022/09/08 21:39</td>\n",
       "      <td>1299</td>\n",
       "      <td>800A0F720</td>\n",
       "      <td>7548</td>\n",
       "      <td>8075DE300</td>\n",
       "      <td>433.09</td>\n",
       "      <td>Euro</td>\n",
       "      <td>433.09</td>\n",
       "      <td>Euro</td>\n",
       "      <td>ACH</td>\n",
       "      <td>0</td>\n",
       "    </tr>\n",
       "    <tr>\n",
       "      <th>2671595</th>\n",
       "      <td>2022/09/05 19:06</td>\n",
       "      <td>21611</td>\n",
       "      <td>8013CC3F0</td>\n",
       "      <td>5394</td>\n",
       "      <td>80476B3D0</td>\n",
       "      <td>969.76</td>\n",
       "      <td>US Dollar</td>\n",
       "      <td>969.76</td>\n",
       "      <td>US Dollar</td>\n",
       "      <td>Credit Card</td>\n",
       "      <td>0</td>\n",
       "    </tr>\n",
       "    <tr>\n",
       "      <th>2322282</th>\n",
       "      <td>2022/09/05 01:27</td>\n",
       "      <td>4503</td>\n",
       "      <td>806DAD3E0</td>\n",
       "      <td>15916</td>\n",
       "      <td>80FC67540</td>\n",
       "      <td>2541.09</td>\n",
       "      <td>US Dollar</td>\n",
       "      <td>2541.09</td>\n",
       "      <td>US Dollar</td>\n",
       "      <td>Credit Card</td>\n",
       "      <td>0</td>\n",
       "    </tr>\n",
       "    <tr>\n",
       "      <th>3201913</th>\n",
       "      <td>2022/09/06 21:58</td>\n",
       "      <td>70</td>\n",
       "      <td>100428660</td>\n",
       "      <td>1729</td>\n",
       "      <td>800DF1BC0</td>\n",
       "      <td>454.43</td>\n",
       "      <td>US Dollar</td>\n",
       "      <td>454.43</td>\n",
       "      <td>US Dollar</td>\n",
       "      <td>Cheque</td>\n",
       "      <td>0</td>\n",
       "    </tr>\n",
       "  </tbody>\n",
       "</table>\n",
       "</div>"
      ],
      "text/plain": [
       "                Timestamp  From Bank    Account  To Bank  Account.1  \\\n",
       "4205263  2022/09/08 23:03         70  100428A08   148586  8120D5550   \n",
       "3270156  2022/09/07 00:15       1132  80C50E4A0       28  80B7644F0   \n",
       "2669041  2022/09/05 18:41         70  1004288E8    32814  80C1FC0D0   \n",
       "262487   2022/09/01 00:03        210  8000A4B20   226548  809D2E6E0   \n",
       "2618957  2022/09/05 16:19         21  803F9CB00     9679  804679BD0   \n",
       "2626571  2022/09/05 16:32       4600  801F377A0    24811  803277950   \n",
       "4171449  2022/09/08 21:39       1299  800A0F720     7548  8075DE300   \n",
       "2671595  2022/09/05 19:06      21611  8013CC3F0     5394  80476B3D0   \n",
       "2322282  2022/09/05 01:27       4503  806DAD3E0    15916  80FC67540   \n",
       "3201913  2022/09/06 21:58         70  100428660     1729  800DF1BC0   \n",
       "\n",
       "         Amount Received Receiving Currency  Amount Paid Payment Currency  \\\n",
       "4205263         13204.53        Saudi Riyal     13204.53      Saudi Riyal   \n",
       "3270156           329.94       Mexican Peso       329.94     Mexican Peso   \n",
       "2669041         54497.52       Mexican Peso     54497.52     Mexican Peso   \n",
       "262487           6370.84    Canadian Dollar      6370.84  Canadian Dollar   \n",
       "2618957         21376.33                Yen     21376.33              Yen   \n",
       "2626571          7275.11               Euro      7275.11             Euro   \n",
       "4171449           433.09               Euro       433.09             Euro   \n",
       "2671595           969.76          US Dollar       969.76        US Dollar   \n",
       "2322282          2541.09          US Dollar      2541.09        US Dollar   \n",
       "3201913           454.43          US Dollar       454.43        US Dollar   \n",
       "\n",
       "        Payment Format  Is Laundering  \n",
       "4205263           Cash              0  \n",
       "3270156    Credit Card              0  \n",
       "2669041    Credit Card              0  \n",
       "262487             ACH              0  \n",
       "2618957         Cheque              0  \n",
       "2626571         Cheque              0  \n",
       "4171449            ACH              0  \n",
       "2671595    Credit Card              0  \n",
       "2322282    Credit Card              0  \n",
       "3201913         Cheque              0  "
      ]
     },
     "execution_count": 16,
     "metadata": {},
     "output_type": "execute_result"
    }
   ],
   "source": [
    "df.head(10)"
   ]
  },
  {
   "cell_type": "code",
   "execution_count": 17,
   "id": "6f9dea17-4f7f-496e-9b71-392cdf310f6e",
   "metadata": {},
   "outputs": [
    {
     "name": "stdout",
     "output_type": "stream",
     "text": [
      "<class 'pandas.core.frame.DataFrame'>\n",
      "Index: 50000 entries, 4205263 to 1446591\n",
      "Data columns (total 11 columns):\n",
      " #   Column              Non-Null Count  Dtype  \n",
      "---  ------              --------------  -----  \n",
      " 0   Timestamp           50000 non-null  object \n",
      " 1   From Bank           50000 non-null  int64  \n",
      " 2   Account             50000 non-null  object \n",
      " 3   To Bank             50000 non-null  int64  \n",
      " 4   Account.1           50000 non-null  object \n",
      " 5   Amount Received     50000 non-null  float64\n",
      " 6   Receiving Currency  50000 non-null  object \n",
      " 7   Amount Paid         50000 non-null  float64\n",
      " 8   Payment Currency    50000 non-null  object \n",
      " 9   Payment Format      50000 non-null  object \n",
      " 10  Is Laundering       50000 non-null  int64  \n",
      "dtypes: float64(2), int64(3), object(6)\n",
      "memory usage: 4.6+ MB\n"
     ]
    }
   ],
   "source": [
    "df.info()"
   ]
  },
  {
   "cell_type": "code",
   "execution_count": 20,
   "id": "9a79eb25-c980-47a0-bad2-0450983daf45",
   "metadata": {},
   "outputs": [
    {
     "data": {
      "text/plain": [
       "From Bank\n",
       "70        4352\n",
       "12         794\n",
       "10         789\n",
       "1          585\n",
       "15         548\n",
       "          ... \n",
       "35764        1\n",
       "315832       1\n",
       "321151       1\n",
       "324818       1\n",
       "335948       1\n",
       "Name: count, Length: 3429, dtype: int64"
      ]
     },
     "execution_count": 20,
     "metadata": {},
     "output_type": "execute_result"
    }
   ],
   "source": [
    "# Frequency of 'From Bank' codes\n",
    "df['From Bank'].value_counts()"
   ]
  },
  {
   "cell_type": "code",
   "execution_count": 21,
   "id": "a574e632-2c36-4505-b05a-5ffa085f2a83",
   "metadata": {},
   "outputs": [
    {
     "data": {
      "text/plain": [
       "To Bank\n",
       "12        415\n",
       "10        406\n",
       "15        397\n",
       "220       321\n",
       "1         292\n",
       "         ... \n",
       "313815      1\n",
       "348279      1\n",
       "324448      1\n",
       "329285      1\n",
       "310723      1\n",
       "Name: count, Length: 2135, dtype: int64"
      ]
     },
     "execution_count": 21,
     "metadata": {},
     "output_type": "execute_result"
    }
   ],
   "source": [
    "# Frequency of 'To Bank' codes\n",
    "df['To Bank'].value_counts()"
   ]
  },
  {
   "cell_type": "code",
   "execution_count": 22,
   "id": "7a671a1d-ff8a-47a7-a8b8-3a47508dbe89",
   "metadata": {},
   "outputs": [
    {
     "data": {
      "text/html": [
       "<div>\n",
       "<style scoped>\n",
       "    .dataframe tbody tr th:only-of-type {\n",
       "        vertical-align: middle;\n",
       "    }\n",
       "\n",
       "    .dataframe tbody tr th {\n",
       "        vertical-align: top;\n",
       "    }\n",
       "\n",
       "    .dataframe thead th {\n",
       "        text-align: right;\n",
       "    }\n",
       "</style>\n",
       "<table border=\"1\" class=\"dataframe\">\n",
       "  <thead>\n",
       "    <tr style=\"text-align: right;\">\n",
       "      <th></th>\n",
       "      <th>Account</th>\n",
       "      <th>Account.1</th>\n",
       "    </tr>\n",
       "  </thead>\n",
       "  <tbody>\n",
       "    <tr>\n",
       "      <th>count</th>\n",
       "      <td>50000</td>\n",
       "      <td>50000</td>\n",
       "    </tr>\n",
       "    <tr>\n",
       "      <th>unique</th>\n",
       "      <td>37434</td>\n",
       "      <td>44321</td>\n",
       "    </tr>\n",
       "    <tr>\n",
       "      <th>top</th>\n",
       "      <td>100428660</td>\n",
       "      <td>100428660</td>\n",
       "    </tr>\n",
       "    <tr>\n",
       "      <th>freq</th>\n",
       "      <td>1648</td>\n",
       "      <td>12</td>\n",
       "    </tr>\n",
       "  </tbody>\n",
       "</table>\n",
       "</div>"
      ],
      "text/plain": [
       "          Account  Account.1\n",
       "count       50000      50000\n",
       "unique      37434      44321\n",
       "top     100428660  100428660\n",
       "freq         1648         12"
      ]
     },
     "execution_count": 22,
     "metadata": {},
     "output_type": "execute_result"
    }
   ],
   "source": [
    "# Analyzing the accounts columns\n",
    "df[['Account', 'Account.1']].describe()"
   ]
  },
  {
   "cell_type": "code",
   "execution_count": 23,
   "id": "02aab886-2ec9-4eec-a7ac-807c2e9cb2ae",
   "metadata": {},
   "outputs": [
    {
     "data": {
      "text/plain": [
       "Is Laundering\n",
       "0    49934\n",
       "1       66\n",
       "Name: count, dtype: int64"
      ]
     },
     "execution_count": 23,
     "metadata": {},
     "output_type": "execute_result"
    }
   ],
   "source": [
    "# How many records are laundering transactions\n",
    "df['Is Laundering'].value_counts()"
   ]
  },
  {
   "cell_type": "code",
   "execution_count": 24,
   "id": "3b388da5-ca21-4845-8886-65f5edaf5e35",
   "metadata": {},
   "outputs": [
    {
     "data": {
      "text/plain": [
       "<Axes: xlabel='Is Laundering', ylabel='count'>"
      ]
     },
     "execution_count": 24,
     "metadata": {},
     "output_type": "execute_result"
    },
    {
     "data": {
      "image/png": "[encoded data removed]",
      "text/plain": [
       "<Figure size 640x480 with 1 Axes>"
      ]
     },
     "metadata": {},
     "output_type": "display_data"
    }
   ],
   "source": [
    "# Generating the plot\n",
    "sns.countplot(data=df, x='Is Laundering')"
   ]
  },
  {
   "cell_type": "markdown",
   "id": "abc820a9-74ad-444b-ad1c-c8d39c09bb72",
   "metadata": {},
   "source": [
    "## **PreProcessing**"
   ]
  },
  {
   "cell_type": "code",
   "execution_count": 26,
   "id": "1b30d39b-5d89-45c0-88cd-ec98f3233375",
   "metadata": {},
   "outputs": [
    {
     "data": {
      "text/html": [
       "<div>\n",
       "<style scoped>\n",
       "    .dataframe tbody tr th:only-of-type {\n",
       "        vertical-align: middle;\n",
       "    }\n",
       "\n",
       "    .dataframe tbody tr th {\n",
       "        vertical-align: top;\n",
       "    }\n",
       "\n",
       "    .dataframe thead th {\n",
       "        text-align: right;\n",
       "    }\n",
       "</style>\n",
       "<table border=\"1\" class=\"dataframe\">\n",
       "  <thead>\n",
       "    <tr style=\"text-align: right;\">\n",
       "      <th></th>\n",
       "      <th>From Bank</th>\n",
       "      <th>Account</th>\n",
       "      <th>To Bank</th>\n",
       "      <th>Account.1</th>\n",
       "      <th>Amount Received</th>\n",
       "      <th>Receiving Currency</th>\n",
       "      <th>Payment Format</th>\n",
       "      <th>Is Laundering</th>\n",
       "    </tr>\n",
       "  </thead>\n",
       "  <tbody>\n",
       "    <tr>\n",
       "      <th>4205263</th>\n",
       "      <td>70</td>\n",
       "      <td>100428A08</td>\n",
       "      <td>148586</td>\n",
       "      <td>8120D5550</td>\n",
       "      <td>13204.53</td>\n",
       "      <td>Saudi Riyal</td>\n",
       "      <td>Cash</td>\n",
       "      <td>0</td>\n",
       "    </tr>\n",
       "    <tr>\n",
       "      <th>3270156</th>\n",
       "      <td>1132</td>\n",
       "      <td>80C50E4A0</td>\n",
       "      <td>28</td>\n",
       "      <td>80B7644F0</td>\n",
       "      <td>329.94</td>\n",
       "      <td>Mexican Peso</td>\n",
       "      <td>Credit Card</td>\n",
       "      <td>0</td>\n",
       "    </tr>\n",
       "  </tbody>\n",
       "</table>\n",
       "</div>"
      ],
      "text/plain": [
       "         From Bank    Account  To Bank  Account.1  Amount Received  \\\n",
       "4205263         70  100428A08   148586  8120D5550         13204.53   \n",
       "3270156       1132  80C50E4A0       28  80B7644F0           329.94   \n",
       "\n",
       "        Receiving Currency Payment Format  Is Laundering  \n",
       "4205263        Saudi Riyal           Cash              0  \n",
       "3270156       Mexican Peso    Credit Card              0  "
      ]
     },
     "execution_count": 26,
     "metadata": {},
     "output_type": "execute_result"
    }
   ],
   "source": [
    "## Dropping some columns\n",
    "cols_to_drop = ['Timestamp', 'Amount Paid', 'Payment Currency']\n",
    "df.drop(cols_to_drop, axis=1, inplace=True)\n",
    "df.head(2)"
   ]
  },
  {
   "cell_type": "code",
   "execution_count": 27,
   "id": "71f89085-6545-40a8-906a-a7ddcce7dec1",
   "metadata": {},
   "outputs": [
    {
     "data": {
      "text/plain": [
       "Index(['From Bank', 'To Bank', 'Amount Received', 'Is Laundering'], dtype='object')"
      ]
     },
     "execution_count": 27,
     "metadata": {},
     "output_type": "execute_result"
    }
   ],
   "source": [
    "numeric_cols = df.select_dtypes(exclude=\"object\").columns\n",
    "\n",
    "numeric_cols"
   ]
  },
  {
   "cell_type": "code",
   "execution_count": 28,
   "id": "4b5e2a23-64f1-4598-9da3-f0a92e9f8881",
   "metadata": {},
   "outputs": [
    {
     "data": {
      "text/plain": [
       "Index(['Account', 'Account.1', 'Receiving Currency', 'Payment Format'], dtype='object')"
      ]
     },
     "execution_count": 28,
     "metadata": {},
     "output_type": "execute_result"
    }
   ],
   "source": [
    "categorical_cols = df.select_dtypes(include=\"object\").columns\n",
    "\n",
    "categorical_cols"
   ]
  },
  {
   "cell_type": "code",
   "execution_count": 29,
   "id": "275f648e-6383-42d5-b818-dce00f2b7d4a",
   "metadata": {},
   "outputs": [
    {
     "name": "stdout",
     "output_type": "stream",
     "text": [
      "Unique columns in the DataFrame: \n",
      " Account               37434\n",
      "Account.1             44321\n",
      "Receiving Currency       15\n",
      "Payment Format            7\n",
      "dtype: int64\n"
     ]
    }
   ],
   "source": [
    "# Unique columns in df\n",
    "unique_counts = df[categorical_cols].nunique()\n",
    "print(\"Unique columns in the DataFrame: \\n\", unique_counts)"
   ]
  },
  {
   "cell_type": "code",
   "execution_count": 30,
   "id": "37326bd2-ef6a-4a88-b923-a99cf3662517",
   "metadata": {},
   "outputs": [
    {
     "data": {
      "text/html": [
       "<div>\n",
       "<style scoped>\n",
       "    .dataframe tbody tr th:only-of-type {\n",
       "        vertical-align: middle;\n",
       "    }\n",
       "\n",
       "    .dataframe tbody tr th {\n",
       "        vertical-align: top;\n",
       "    }\n",
       "\n",
       "    .dataframe thead th {\n",
       "        text-align: right;\n",
       "    }\n",
       "</style>\n",
       "<table border=\"1\" class=\"dataframe\">\n",
       "  <thead>\n",
       "    <tr style=\"text-align: right;\">\n",
       "      <th></th>\n",
       "      <th>From Bank</th>\n",
       "      <th>Account</th>\n",
       "      <th>To Bank</th>\n",
       "      <th>Account.1</th>\n",
       "      <th>Amount Received</th>\n",
       "      <th>Receiving Currency</th>\n",
       "      <th>Payment Format</th>\n",
       "      <th>Is Laundering</th>\n",
       "    </tr>\n",
       "  </thead>\n",
       "  <tbody>\n",
       "    <tr>\n",
       "      <th>4205263</th>\n",
       "      <td>70</td>\n",
       "      <td>100428A08</td>\n",
       "      <td>148586</td>\n",
       "      <td>8120D5550</td>\n",
       "      <td>13204.53</td>\n",
       "      <td>Saudi Riyal</td>\n",
       "      <td>Cash</td>\n",
       "      <td>0</td>\n",
       "    </tr>\n",
       "    <tr>\n",
       "      <th>3270156</th>\n",
       "      <td>1132</td>\n",
       "      <td>80C50E4A0</td>\n",
       "      <td>28</td>\n",
       "      <td>80B7644F0</td>\n",
       "      <td>329.94</td>\n",
       "      <td>Mexican Peso</td>\n",
       "      <td>Credit Card</td>\n",
       "      <td>0</td>\n",
       "    </tr>\n",
       "    <tr>\n",
       "      <th>2669041</th>\n",
       "      <td>70</td>\n",
       "      <td>1004288E8</td>\n",
       "      <td>32814</td>\n",
       "      <td>80C1FC0D0</td>\n",
       "      <td>54497.52</td>\n",
       "      <td>Mexican Peso</td>\n",
       "      <td>Credit Card</td>\n",
       "      <td>0</td>\n",
       "    </tr>\n",
       "    <tr>\n",
       "      <th>262487</th>\n",
       "      <td>210</td>\n",
       "      <td>8000A4B20</td>\n",
       "      <td>226548</td>\n",
       "      <td>809D2E6E0</td>\n",
       "      <td>6370.84</td>\n",
       "      <td>Canadian Dollar</td>\n",
       "      <td>ACH</td>\n",
       "      <td>0</td>\n",
       "    </tr>\n",
       "    <tr>\n",
       "      <th>2618957</th>\n",
       "      <td>21</td>\n",
       "      <td>803F9CB00</td>\n",
       "      <td>9679</td>\n",
       "      <td>804679BD0</td>\n",
       "      <td>21376.33</td>\n",
       "      <td>Yen</td>\n",
       "      <td>Cheque</td>\n",
       "      <td>0</td>\n",
       "    </tr>\n",
       "  </tbody>\n",
       "</table>\n",
       "</div>"
      ],
      "text/plain": [
       "         From Bank    Account  To Bank  Account.1  Amount Received  \\\n",
       "4205263         70  100428A08   148586  8120D5550         13204.53   \n",
       "3270156       1132  80C50E4A0       28  80B7644F0           329.94   \n",
       "2669041         70  1004288E8    32814  80C1FC0D0         54497.52   \n",
       "262487         210  8000A4B20   226548  809D2E6E0          6370.84   \n",
       "2618957         21  803F9CB00     9679  804679BD0         21376.33   \n",
       "\n",
       "        Receiving Currency Payment Format  Is Laundering  \n",
       "4205263        Saudi Riyal           Cash              0  \n",
       "3270156       Mexican Peso    Credit Card              0  \n",
       "2669041       Mexican Peso    Credit Card              0  \n",
       "262487     Canadian Dollar            ACH              0  \n",
       "2618957                Yen         Cheque              0  "
      ]
     },
     "execution_count": 30,
     "metadata": {},
     "output_type": "execute_result"
    }
   ],
   "source": [
    "df.head(5)"
   ]
  },
  {
   "cell_type": "code",
   "execution_count": 31,
   "id": "909f6ebb-7397-4d7f-b261-23c815a98754",
   "metadata": {},
   "outputs": [
    {
     "data": {
      "text/plain": [
       "Index(['From Bank', 'Account', 'To Bank', 'Account.1', 'Amount Received',\n",
       "       'Receiving Currency', 'Payment Format', 'Is Laundering'],\n",
       "      dtype='object')"
      ]
     },
     "execution_count": 31,
     "metadata": {},
     "output_type": "execute_result"
    }
   ],
   "source": [
    "df.columns"
   ]
  },
  {
   "cell_type": "code",
   "execution_count": 32,
   "id": "185a1648-a1ae-4e55-a58c-48fd7f632c59",
   "metadata": {},
   "outputs": [
    {
     "data": {
      "text/plain": [
       "Receiving Currency\n",
       "US Dollar            18395\n",
       "Euro                 11583\n",
       "Swiss Franc           2444\n",
       "Yuan                  1977\n",
       "Shekel                1923\n",
       "UK Pound              1819\n",
       "Rupee                 1804\n",
       "Yen                   1578\n",
       "Ruble                 1564\n",
       "Bitcoin               1483\n",
       "Australian Dollar     1401\n",
       "Canadian Dollar       1342\n",
       "Mexican Peso          1110\n",
       "Saudi Riyal            860\n",
       "Brazil Real            717\n",
       "Name: count, dtype: int64"
      ]
     },
     "execution_count": 32,
     "metadata": {},
     "output_type": "execute_result"
    }
   ],
   "source": [
    "df['Receiving Currency'].value_counts()"
   ]
  },
  {
   "cell_type": "code",
   "execution_count": 33,
   "id": "dd8e7ad3-eb8b-48b0-bce6-507ea8229c46",
   "metadata": {},
   "outputs": [
    {
     "data": {
      "text/plain": [
       "From Bank             0\n",
       "Account               0\n",
       "To Bank               0\n",
       "Account.1             0\n",
       "Amount Received       0\n",
       "Receiving Currency    0\n",
       "Payment Format        0\n",
       "Is Laundering         0\n",
       "dtype: int64"
      ]
     },
     "execution_count": 33,
     "metadata": {},
     "output_type": "execute_result"
    }
   ],
   "source": [
    "# Looking for null values\n",
    "df.isnull().sum()"
   ]
  },
  {
   "cell_type": "markdown",
   "id": "7e615d76-2a5b-4929-bab2-1bc42e5b70a8",
   "metadata": {},
   "source": [
    "## **Dividing into Independent and Dependent features**"
   ]
  },
  {
   "cell_type": "code",
   "execution_count": 34,
   "id": "79e56460-d6c5-44a4-a75a-eef428efa873",
   "metadata": {},
   "outputs": [],
   "source": [
    "X = df.drop(columns=[\"Is Laundering\"], axis=1)\n",
    "y = df[\"Is Laundering\"]"
   ]
  },
  {
   "cell_type": "code",
   "execution_count": 35,
   "id": "759adf0b-a35f-4866-9555-a4301bc3cd32",
   "metadata": {},
   "outputs": [
    {
     "data": {
      "text/plain": [
       "Index(['From Bank', 'To Bank', 'Amount Received'], dtype='object')"
      ]
     },
     "execution_count": 35,
     "metadata": {},
     "output_type": "execute_result"
    }
   ],
   "source": [
    "numerical_features = X.select_dtypes(exclude=\"object\").columns\n",
    "\n",
    "numerical_features"
   ]
  },
  {
   "cell_type": "code",
   "execution_count": 36,
   "id": "f34f8915-d546-4a29-8fe2-325c47247ab8",
   "metadata": {},
   "outputs": [
    {
     "data": {
      "text/plain": [
       "Index(['Account', 'Account.1', 'Receiving Currency', 'Payment Format'], dtype='object')"
      ]
     },
     "execution_count": 36,
     "metadata": {},
     "output_type": "execute_result"
    }
   ],
   "source": [
    "categorical_features = X.select_dtypes(include=\"object\").columns\n",
    "\n",
    "categorical_features"
   ]
  },
  {
   "cell_type": "markdown",
   "id": "bf68b1dd-8207-4a7d-a17a-afd22c199084",
   "metadata": {},
   "source": [
    "## **Pipeline Definition**"
   ]
  },
  {
   "cell_type": "code",
   "execution_count": 37,
   "id": "6dc087c9-a010-455e-ab01-bbd17010f20d",
   "metadata": {},
   "outputs": [],
   "source": [
    "# Define the pipeline\n",
    "\n",
    "num_pipeline = Pipeline(\n",
    "    steps=[\n",
    "        (\"imputer\", SimpleImputer(strategy=\"median\")),\n",
    "        (\"scaler\", RobustScaler())\n",
    "    ]\n",
    ")\n",
    "\n",
    "cat_pipeline = Pipeline(\n",
    "    steps=[\n",
    "        (\"imputer\", SimpleImputer(strategy=\"most_frequent\")),\n",
    "        (\"ordinalencoder\", OrdinalEncoder()),\n",
    "    ]\n",
    ")"
   ]
  },
  {
   "cell_type": "code",
   "execution_count": 38,
   "id": "2609e02c-0b98-4e3f-896b-6626f3364f26",
   "metadata": {},
   "outputs": [],
   "source": [
    "transformer = ColumnTransformer(transformers=[\n",
    "    (\"OrdinalEncoder\", OrdinalEncoder(handle_unknown='use_encoded_value', unknown_value=-1), categorical_features),\n",
    "    (\"RobustScaler\", RobustScaler(), numerical_features)\n",
    "], remainder=\"passthrough\")"
   ]
  },
  {
   "cell_type": "code",
   "execution_count": 39,
   "id": "cc370877-0531-440e-b94d-50310006b8e8",
   "metadata": {},
   "outputs": [],
   "source": [
    "X_train, X_test, y_train, y_test = train_test_split(X, y, test_size=0.2, random_state=42)"
   ]
  },
  {
   "cell_type": "code",
   "execution_count": 40,
   "id": "1c4ff658-bb65-4af7-a64d-d216bb7e4adf",
   "metadata": {},
   "outputs": [],
   "source": [
    "X_train = transformer.fit_transform(X_train)\n",
    "X_test = transformer.transform(X_test)"
   ]
  },
  {
   "cell_type": "code",
   "execution_count": 41,
   "id": "a30cb880-3ce8-4756-9a3a-3a735026c679",
   "metadata": {},
   "outputs": [
    {
     "data": {
      "text/plain": [
       "((40000, 7), (10000, 7))"
      ]
     },
     "execution_count": 41,
     "metadata": {},
     "output_type": "execute_result"
    }
   ],
   "source": [
    "X_train.shape, X_test.shape"
   ]
  },
  {
   "cell_type": "markdown",
   "id": "f08028ae-a898-4bb1-966c-641b23823455",
   "metadata": {},
   "source": [
    "## **Model Training**"
   ]
  },
  {
   "cell_type": "code",
   "execution_count": 42,
   "id": "732f74bd-5568-4e28-b8ce-44514998da63",
   "metadata": {},
   "outputs": [
    {
     "name": "stdout",
     "output_type": "stream",
     "text": [
      "Fitting 2 folds for each of 9 candidates, totalling 18 fits\n",
      "[CV] END ...............................eta=0.1, max_depth=4; total time=   0.0s\n",
      "[CV] END ...............................eta=0.1, max_depth=4; total time=   0.0s\n",
      "[CV] END ...............................eta=0.1, max_depth=8; total time=   0.0s\n",
      "[CV] END ...............................eta=0.1, max_depth=8; total time=   0.0s\n",
      "[CV] END ..............................eta=0.1, max_depth=16; total time=   0.0s\n",
      "[CV] END ..............................eta=0.1, max_depth=16; total time=   0.0s\n",
      "[CV] END ...............................eta=0.2, max_depth=4; total time=   0.0s\n",
      "[CV] END ...............................eta=0.2, max_depth=4; total time=   0.0s\n",
      "[CV] END ...............................eta=0.2, max_depth=8; total time=   0.0s\n",
      "[CV] END ...............................eta=0.2, max_depth=8; total time=   0.0s\n",
      "[CV] END ..............................eta=0.2, max_depth=16; total time=   0.0s\n",
      "[CV] END ..............................eta=0.2, max_depth=16; total time=   0.0s\n",
      "[CV] END ...............................eta=0.3, max_depth=4; total time=   0.0s\n",
      "[CV] END ...............................eta=0.3, max_depth=4; total time=   0.0s\n",
      "[CV] END ...............................eta=0.3, max_depth=8; total time=   0.0s\n",
      "[CV] END ...............................eta=0.3, max_depth=8; total time=   0.0s\n",
      "[CV] END ..............................eta=0.3, max_depth=16; total time=   0.0s\n",
      "[CV] END ..............................eta=0.3, max_depth=16; total time=   0.0s\n",
      "Best Parameters:  {'eta': 0.1, 'max_depth': 4}\n",
      "Test AUC:  0.9215938027524249\n"
     ]
    }
   ],
   "source": [
    "param_grid = {\n",
    "    'max_depth': [4,8,16],\n",
    "    'eta': [0.1,0.2,0.3],\n",
    "}\n",
    "\n",
    "xgb = XGBClassifier(eval_metric='logloss', random_state=42)\n",
    "\n",
    "grid_search = GridSearchCV(\n",
    "    estimator=xgb,\n",
    "    param_grid=param_grid,\n",
    "    scoring='roc_auc',\n",
    "    cv=2,\n",
    "    verbose=2\n",
    ")\n",
    "\n",
    "grid_search.fit(X_train, y_train)\n",
    "\n",
    "print(\"Best Parameters: \", grid_search.best_params_)\n",
    "\n",
    "best_model = grid_search.best_estimator_\n",
    "\n",
    "y_pred = best_model.predict_proba(X_test)[:, 1]\n",
    "test_auc = roc_auc_score(y_test, y_pred)\n",
    "print(\"Test AUC: \", test_auc)"
   ]
  },
  {
   "cell_type": "code",
   "execution_count": 43,
   "id": "c8002da5-793a-48dc-8b45-e5be6980e3a1",
   "metadata": {},
   "outputs": [
    {
     "name": "stdout",
     "output_type": "stream",
     "text": [
      "Test Set AUC:  0.9215938027524249\n"
     ]
    },
    {
     "data": {
      "image/png": "[encoded data removed]",
      "text/plain": [
       "<Figure size 640x480 with 1 Axes>"
      ]
     },
     "metadata": {},
     "output_type": "display_data"
    }
   ],
   "source": [
    "from sklearn.metrics import roc_curve, roc_auc_score\n",
    "\n",
    "test_probabilities = best_model.predict_proba(X_test)[:, 1]\n",
    "\n",
    "test_auc = roc_auc_score(y_test, test_probabilities)\n",
    "print(\"Test Set AUC: \", test_auc)\n",
    "\n",
    "fpr, tpr, thresholds = roc_curve(y_test, test_probabilities)\n",
    "\n",
    "plt.figure()\n",
    "plt.plot(fpr, tpr, color='darkorange', lw=2, label='ROC curve (area = %0.2f)' % test_auc)\n",
    "plt.plot([0, 1], [0, 1], color='navy', lw=2, linestyle='--')\n",
    "plt.xlim([0.0, 1.0])\n",
    "plt.ylim([0.0, 1.05])\n",
    "plt.xlabel('False Positive Rate')\n",
    "plt.ylabel('True Positive Rate')\n",
    "plt.title('Receiver Operating Characteristic')\n",
    "plt.legend(loc=\"lower right\")\n",
    "plt.show();"
   ]
  },
  {
   "cell_type": "code",
   "execution_count": 44,
   "id": "8d90a66d-1d05-4525-b0c0-432c1ad8053b",
   "metadata": {},
   "outputs": [
    {
     "name": "stdout",
     "output_type": "stream",
     "text": [
      "Desired TPR of around 90%:\n"
     ]
    },
    {
     "data": {
      "image/png": "[encoded data removed]",
      "text/plain": [
       "<Figure size 700x500 with 2 Axes>"
      ]
     },
     "metadata": {},
     "output_type": "display_data"
    },
    {
     "name": "stdout",
     "output_type": "stream",
     "text": [
      "False Positive Rate (FPR): 0.055\n",
      "True Positive Rate (TPR): 0.929\n"
     ]
    }
   ],
   "source": [
    "# Confusion Matrix, TPR, and FPR at around a TPR of 0.87\n",
    "desired_tpr = 0.92\n",
    "closest_threshold = thresholds[np.argmin(np.abs(tpr - desired_tpr))]\n",
    "print(f\"Desired TPR of around 90%:\")\n",
    "\n",
    "y_pred = (test_probabilities >= closest_threshold).astype(int)\n",
    "cm = confusion_matrix(y_test, y_pred)\n",
    "\n",
    "plt.figure(figsize=(7,5))\n",
    "sns.heatmap(cm, annot=True, fmt=\"d\", cmap=\"Blues\")\n",
    "plt.xlabel('Predicted labels')\n",
    "plt.ylabel('True labels')\n",
    "plt.title(f'Confusion Matrix at {desired_tpr*100}% TPR')\n",
    "plt.show()\n",
    "\n",
    "tn, fp, fn, tp = cm.ravel()\n",
    "fpr_cm = fp / (fp + tn)\n",
    "tpr_cm = tp / (tp + fn)\n",
    "\n",
    "print(f\"False Positive Rate (FPR): {fpr_cm:.3f}\")\n",
    "print(f\"True Positive Rate (TPR): {tpr_cm:.3f}\")"
   ]
  },
  {
   "cell_type": "code",
   "execution_count": 45,
   "id": "a9ed9628-0173-4b7b-af3f-e918b11f6bb2",
   "metadata": {},
   "outputs": [
    {
     "name": "stdout",
     "output_type": "stream",
     "text": [
      "              precision    recall  f1-score   support\n",
      "\n",
      "           0       1.00      0.94      0.97      9986\n",
      "           1       0.02      0.93      0.04        14\n",
      "\n",
      "    accuracy                           0.94     10000\n",
      "   macro avg       0.51      0.94      0.51     10000\n",
      "weighted avg       1.00      0.94      0.97     10000\n",
      "\n"
     ]
    }
   ],
   "source": [
    "from sklearn.metrics import classification_report\n",
    "\n",
    "print(classification_report(y_test, y_pred))"
   ]
  },
  {
   "cell_type": "markdown",
   "id": "22ea834a-73ff-4dbc-ba2c-fd5b96c1529d",
   "metadata": {},
   "source": [
    "### Generate synthetic data for minority, using SMOTE"
   ]
  },
  {
   "cell_type": "code",
   "execution_count": 46,
   "id": "f2760fa2-b70a-4913-9491-271414d9a923",
   "metadata": {},
   "outputs": [
    {
     "name": "stdout",
     "output_type": "stream",
     "text": [
      "=============================\n",
      "Class= 0, n=39948 (99.87%)\n",
      "Class= 1, n=52 (0.13%)\n",
      "=============================\n",
      "Class= 0, n=39948 (99.87%)\n",
      "Class= 1, n=39948 (99.87%)\n",
      "=============================\n",
      "Upsampled data shape:  (79896, 7) (79896,)\n"
     ]
    }
   ],
   "source": [
    "# upsampling using smote\n",
    "# upsampling using smote\n",
    "\n",
    "from imblearn.over_sampling import SMOTE\n",
    "from collections import Counter\n",
    "\n",
    "counter = Counter(y_train)\n",
    "\n",
    "print(\"=============================\")\n",
    "\n",
    "for k,v in counter.items():\n",
    "    per = 100*v/len(y_train)\n",
    "    print(f\"Class= {k}, n={v} ({per:.2f}%)\")\n",
    "\n",
    "oversample = SMOTE()\n",
    "X_train_os, y_train_os = oversample.fit_resample(X_train, y_train)\n",
    "\n",
    "counter = Counter(y_train_os)\n",
    "\n",
    "print(\"=============================\")\n",
    "\n",
    "for k,v in counter.items():\n",
    "    per = 100*v/len(y_train)\n",
    "    print(f\"Class= {k}, n={v} ({per:.2f}%)\")\n",
    "\n",
    "print(\"=============================\")\n",
    "\n",
    "print(\"Upsampled data shape: \", X_train_os.shape, y_train_os.shape)"
   ]
  },
  {
   "cell_type": "code",
   "execution_count": 47,
   "id": "eada92e5-c742-4ff4-b0d0-831124ac27ec",
   "metadata": {},
   "outputs": [
    {
     "name": "stdout",
     "output_type": "stream",
     "text": [
      "Class 0: 39948 samples\n",
      "Class 1: 39948 samples\n",
      "The target variable 'y' is balanced.\n"
     ]
    }
   ],
   "source": [
    "from collections import Counter\n",
    "\n",
    "# Assuming 'y' is your target variable\n",
    "class_distribution = Counter(y_train_os)\n",
    "\n",
    "# Print the class distribution\n",
    "for class_label, count in class_distribution.items():\n",
    "    print(f\"Class {class_label}: {count} samples\")\n",
    "\n",
    "# Check if 'y' is balanced\n",
    "is_balanced = all(count == class_distribution[y_train_os[0]] for count in class_distribution.values())\n",
    "\n",
    "if is_balanced:\n",
    "    print(\"The target variable 'y' is balanced.\")\n",
    "else:\n",
    "    print(\"The target variable 'y' is imbalanced.\")"
   ]
  },
  {
   "cell_type": "code",
   "execution_count": 48,
   "id": "d5b916b1-04c6-4705-bd6b-491a80f4015c",
   "metadata": {},
   "outputs": [],
   "source": [
    "def fit_classification_models(X, y, test_size=0.2, random_state=42):\n",
    "    \"\"\"\n",
    "    Fit classification models using XGBoost, RandomForest, and ExtraTrees classifiers.\n",
    "\n",
    "    Parameters:\n",
    "    -----------\n",
    "    X : array-like of shape (n_samples, n_features)\n",
    "        The input data.\n",
    "\n",
    "    y : array-like of shape (n_samples,)\n",
    "        The target variable.\n",
    "\n",
    "    test_size : float, default=0.2\n",
    "        The proportion of the dataset to include in the test split.\n",
    "\n",
    "    random_state : int, default=42\n",
    "        Controls the randomness of the dataset splitting.\n",
    "\n",
    "    Returns:\n",
    "    --------\n",
    "    results : dict\n",
    "        A dictionary containing the performance metrics for XGBoost, RandomForest, and ExtraTrees classifiers,\n",
    "        including training and testing results along with confusion matrices and classification reports.\n",
    "    \"\"\"\n",
    "\n",
    "    # Split the dataset into training and testing sets\n",
    "    X_train, X_test, y_train, y_test = train_test_split(X, y, test_size=test_size, random_state=random_state)\n",
    "\n",
    "    # Create pipelines for XGBoost, RandomForest, and ExtraTrees classifiers\n",
    "    pipelines = {\n",
    "        'XGBoost': Pipeline([('scaler', RobustScaler()), ('classifier', XGBClassifier())]),\n",
    "        'Random Forest': Pipeline([('scaler', RobustScaler()), ('classifier', RandomForestClassifier())]),\n",
    "        'ExtraTreesClassifier': Pipeline([('scaler', RobustScaler()), ('classifier', ExtraTreesClassifier())]),\n",
    "    }\n",
    "\n",
    "    # Fit and evaluate XGBoost, RandomForest, and ExtraTrees classifiers\n",
    "    results = {}\n",
    "\n",
    "    for classifier_name, pipeline in pipelines.items():\n",
    "        pipeline.fit(X_train, y_train)\n",
    "\n",
    "        # Training results\n",
    "        y_train_pred = pipeline.predict(X_train)\n",
    "        train_precision = round(precision_score(y_train, y_train_pred, average=\"weighted\") * 100, 1)\n",
    "        train_recall = round(recall_score(y_train, y_train_pred, average=\"weighted\") * 100, 1)\n",
    "        train_f1 = round(f1_score(y_train, y_train_pred, average=\"weighted\") * 100, 1)\n",
    "        train_conf_matrix = confusion_matrix(y_train, y_train_pred)\n",
    "        train_classification_report = classification_report(y_train, y_train_pred, output_dict=True)\n",
    "\n",
    "        # Testing results\n",
    "        y_test_pred = pipeline.predict(X_test)\n",
    "        test_precision = round(precision_score(y_test, y_test_pred, average=\"weighted\") * 100, 1)\n",
    "        test_recall = round(recall_score(y_test, y_test_pred, average=\"weighted\") * 100, 1)\n",
    "        test_f1 = round(f1_score(y_test, y_test_pred, average=\"weighted\") * 100, 1)\n",
    "        test_conf_matrix = confusion_matrix(y_test, y_test_pred)\n",
    "        test_classification_report = classification_report(y_test, y_test_pred, output_dict=True)\n",
    "\n",
    "        results[classifier_name] = {\n",
    "            'training': {\n",
    "                'precision': train_precision,\n",
    "                'recall': train_recall,\n",
    "                'f1-score': train_f1,\n",
    "                'confusion_matrix': train_conf_matrix,\n",
    "                'classification_report': train_classification_report\n",
    "            },\n",
    "            'testing': {\n",
    "                'precision': test_precision,\n",
    "                'recall': test_recall,\n",
    "                'f1-score': test_f1,\n",
    "                'confusion_matrix': test_conf_matrix,\n",
    "                'classification_report': test_classification_report\n",
    "            }\n",
    "        }\n",
    "\n",
    "    return results"
   ]
  },
  {
   "cell_type": "code",
   "execution_count": 49,
   "id": "56b61f76-bf36-4b5b-9497-f436fe893cab",
   "metadata": {},
   "outputs": [
    {
     "name": "stdout",
     "output_type": "stream",
     "text": [
      "Algorithm: XGBoost\n",
      "      Metric  Training  Testing\n",
      "0  Precision     100.0     99.8\n",
      "1     Recall     100.0     99.8\n",
      "2   F1-score     100.0     99.8\n",
      "\n",
      "\n"
     ]
    },
    {
     "data": {
      "image/png": "[encoded data removed]",
      "text/plain": [
       "<Figure size 1500x500 with 4 Axes>"
      ]
     },
     "metadata": {},
     "output_type": "display_data"
    },
    {
     "name": "stdout",
     "output_type": "stream",
     "text": [
      "Algorithm: Random Forest\n",
      "      Metric  Training  Testing\n",
      "0  Precision     100.0     99.9\n",
      "1     Recall     100.0     99.9\n",
      "2   F1-score     100.0     99.9\n",
      "\n",
      "\n"
     ]
    },
    {
     "data": {
      "image/png": "[encoded data removed]",
      "text/plain": [
       "<Figure size 1500x500 with 4 Axes>"
      ]
     },
     "metadata": {},
     "output_type": "display_data"
    },
    {
     "name": "stdout",
     "output_type": "stream",
     "text": [
      "Algorithm: ExtraTreesClassifier\n",
      "      Metric  Training  Testing\n",
      "0  Precision     100.0     99.9\n",
      "1     Recall     100.0     99.9\n",
      "2   F1-score     100.0     99.9\n",
      "\n",
      "\n"
     ]
    },
    {
     "data": {
      "image/png": "[encoded data removed]",
      "text/plain": [
       "<Figure size 1500x500 with 4 Axes>"
      ]
     },
     "metadata": {},
     "output_type": "display_data"
    }
   ],
   "source": [
    "# Call fit_classification_models() function to generate results\n",
    "results = fit_classification_models(X_train_os, y_train_os)\n",
    "\n",
    "# Plot confusion matrices and display DataFrame for each algorithm\n",
    "for classifier_name, metrics in results.items():\n",
    "    print(f\"Algorithm: {classifier_name}\")\n",
    "\n",
    "    # Display DataFrame\n",
    "    df = pd.DataFrame({\n",
    "        'Metric': ['Precision', 'Recall', 'F1-score'],\n",
    "        'Training': [metrics['training']['precision'], metrics['training']['recall'], metrics['training']['f1-score']],\n",
    "        'Testing': [metrics['testing']['precision'], metrics['testing']['recall'], metrics['testing']['f1-score']]\n",
    "    })\n",
    "    print(df)\n",
    "    print(\"\\n\")\n",
    "\n",
    "    # Plot confusion matrices\n",
    "    fig, axes = plt.subplots(1, 2, figsize=(15, 5))\n",
    "\n",
    "    # Training confusion matrix\n",
    "    sns.heatmap(metrics['training']['confusion_matrix'], annot=True, fmt='d', cmap='Blues', ax=axes[0])\n",
    "    axes[0].set_title('Training Confusion Matrix')\n",
    "    axes[0].set_xlabel('Predicted Label')\n",
    "    axes[0].set_ylabel('True Label')\n",
    "\n",
    "    # Testing confusion matrix\n",
    "    sns.heatmap(metrics['testing']['confusion_matrix'], annot=True, fmt='d', cmap='Blues', ax=axes[1])\n",
    "    axes[1].set_title('Testing Confusion Matrix')\n",
    "    axes[1].set_xlabel('Predicted Label')\n",
    "    axes[1].set_ylabel('True Label')\n",
    "\n",
    "    plt.tight_layout()\n",
    "    plt.show()"
   ]
  },
  {
   "cell_type": "code",
   "execution_count": 50,
   "id": "5fa2fc9f-4a88-4ca5-8630-df11f228f864",
   "metadata": {},
   "outputs": [
    {
     "data": {
      "text/html": [
       "<div>\n",
       "<style scoped>\n",
       "    .dataframe tbody tr th:only-of-type {\n",
       "        vertical-align: middle;\n",
       "    }\n",
       "\n",
       "    .dataframe tbody tr th {\n",
       "        vertical-align: top;\n",
       "    }\n",
       "\n",
       "    .dataframe thead th {\n",
       "        text-align: right;\n",
       "    }\n",
       "</style>\n",
       "<table border=\"1\" class=\"dataframe\">\n",
       "  <thead>\n",
       "    <tr style=\"text-align: right;\">\n",
       "      <th></th>\n",
       "      <th>Algorithm</th>\n",
       "      <th>Training Precision</th>\n",
       "      <th>Testing Precision</th>\n",
       "      <th>Training Recall</th>\n",
       "      <th>Testing Recall</th>\n",
       "      <th>Training F1-score</th>\n",
       "      <th>Testing F1-score</th>\n",
       "    </tr>\n",
       "  </thead>\n",
       "  <tbody>\n",
       "    <tr>\n",
       "      <th>1</th>\n",
       "      <td>Random Forest</td>\n",
       "      <td>100.0</td>\n",
       "      <td>99.9</td>\n",
       "      <td>100.0</td>\n",
       "      <td>99.9</td>\n",
       "      <td>100.0</td>\n",
       "      <td>99.9</td>\n",
       "    </tr>\n",
       "    <tr>\n",
       "      <th>2</th>\n",
       "      <td>ExtraTreesClassifier</td>\n",
       "      <td>100.0</td>\n",
       "      <td>99.9</td>\n",
       "      <td>100.0</td>\n",
       "      <td>99.9</td>\n",
       "      <td>100.0</td>\n",
       "      <td>99.9</td>\n",
       "    </tr>\n",
       "    <tr>\n",
       "      <th>0</th>\n",
       "      <td>XGBoost</td>\n",
       "      <td>100.0</td>\n",
       "      <td>99.8</td>\n",
       "      <td>100.0</td>\n",
       "      <td>99.8</td>\n",
       "      <td>100.0</td>\n",
       "      <td>99.8</td>\n",
       "    </tr>\n",
       "  </tbody>\n",
       "</table>\n",
       "</div>"
      ],
      "text/plain": [
       "              Algorithm  Training Precision  Testing Precision  \\\n",
       "1         Random Forest               100.0               99.9   \n",
       "2  ExtraTreesClassifier               100.0               99.9   \n",
       "0               XGBoost               100.0               99.8   \n",
       "\n",
       "   Training Recall  Testing Recall  Training F1-score  Testing F1-score  \n",
       "1            100.0            99.9              100.0              99.9  \n",
       "2            100.0            99.9              100.0              99.9  \n",
       "0            100.0            99.8              100.0              99.8  "
      ]
     },
     "execution_count": 50,
     "metadata": {},
     "output_type": "execute_result"
    }
   ],
   "source": [
    "# Initialize a list to store the scores\n",
    "all_scores = []\n",
    "\n",
    "# Iterate over the results\n",
    "for classifier_name, metrics in results.items():\n",
    "    # Append the scores to the list\n",
    "    all_scores.append({\n",
    "        'Algorithm': classifier_name,\n",
    "        'Training Precision': metrics['training']['precision'],\n",
    "        'Testing Precision': metrics['testing']['precision'],\n",
    "        'Training Recall': metrics['training']['recall'],\n",
    "        'Testing Recall': metrics['testing']['recall'],\n",
    "        'Training F1-score': metrics['training']['f1-score'],\n",
    "        'Testing F1-score': metrics['testing']['f1-score']\n",
    "    })\n",
    "\n",
    "# Create a DataFrame from the scores list\n",
    "scores_df = pd.DataFrame(all_scores)\n",
    "\n",
    "# Sort the DataFrame by the 'Testing F1-score' column in descending order\n",
    "scores_sorted = scores_df.sort_values(by='Testing F1-score', ascending=False)\n",
    "\n",
    "# Display the sorted DataFrame\n",
    "scores_sorted"
   ]
  },
  {
   "cell_type": "code",
   "execution_count": null,
   "id": "58cc65bd-2319-42b0-968c-0077034eaa79",
   "metadata": {},
   "outputs": [],
   "source": []
  }
 ],
 "metadata": {
  "kernelspec": {
   "display_name": "Python 3 (ipykernel)",
   "language": "python",
   "name": "python3"
  },
  "language_info": {
   "codemirror_mode": {
    "name": "ipython",
    "version": 3
   },
   "file_extension": ".py",
   "mimetype": "text/x-python",
   "name": "python",
   "nbconvert_exporter": "python",
   "pygments_lexer": "ipython3",
   "version": "3.11.5"
  }
 },
 "nbformat": 4,
 "nbformat_minor": 5
}
